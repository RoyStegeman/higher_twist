{
 "cells": [
  {
   "cell_type": "code",
   "execution_count": 1,
   "id": "226dc610",
   "metadata": {},
   "outputs": [],
   "source": [
    "import numpy as np\n",
    "import pandas as pd\n",
    "from scipy import interpolate as scint\n",
    "from validphys.api import API\n",
    "from validphys.loader import FallbackLoader\n",
    "from validphys.theorycovariance.construction import compute_normalisation_by_experiment\n",
    "\n",
    "%matplotlib inline\n",
    "\n",
    "l = FallbackLoader()"
   ]
  },
  {
   "cell_type": "code",
   "execution_count": 2,
   "id": "377309ca",
   "metadata": {},
   "outputs": [],
   "source": [
    "fitname = \"240921_02_ht_preds_abmp\"\n",
    "fitname_ref = \"240417-01-bl-abmp_cuts\""
   ]
  },
  {
   "cell_type": "code",
   "execution_count": 3,
   "id": "c9d93689",
   "metadata": {},
   "outputs": [],
   "source": [
    "fit = API.fit(fit=fitname)\n",
    "fit_ref = API.fit(fit=fitname_ref)\n",
    "\n",
    "settings_dict = dict(\n",
    "    dataset_inputs={\"from_\": \"fit\"},\n",
    "    fit=fit.name,\n",
    "    use_cuts=\"fromfit\",\n",
    "    metadata_group=\"nnpdf31_process\",\n",
    "    theory={\"from_\": \"fit\"},\n",
    "    theoryid={\"from_\": \"theory\"},\n",
    "    pdf={\"from_\": \"fit\"},\n",
    "    datacuts={\"from_\": \"fit\"},\n",
    "    t0pdfset={\"from_\": \"datacuts\"},\n",
    ")\n",
    "\n",
    "settings_dict_ref = dict(\n",
    "    dataset_inputs={\"from_\": \"fit\"},\n",
    "    fit=fit_ref.name,\n",
    "    use_cuts=\"fromfit\",\n",
    "    metadata_group=\"nnpdf31_process\",\n",
    "    theory={\"from_\": \"fit\"},\n",
    "    theoryid={\"from_\": \"theory\"},\n",
    "    pdf={\"from_\": \"fit\"},\n",
    "    datacuts={\"from_\": \"fit\"},\n",
    "    t0pdfset={\"from_\": \"datacuts\"},\n",
    ")"
   ]
  },
  {
   "cell_type": "code",
   "execution_count": 4,
   "id": "29e4c30f",
   "metadata": {},
   "outputs": [
    {
     "name": "stdout",
     "output_type": "stream",
     "text": [
      "LHAPDF 6.5.4 loading all 501 PDFs in set 240921_02_ht_preds_abmp\n",
      "240921_02_ht_preds_abmp, version 1; 501 PDF members\n",
      "LHAPDF 6.5.4 loading all 501 PDFs in set 240417-01-bl-abmp_cuts\n",
      "240417-01-bl-abmp_cuts, version 1; 501 PDF members\n"
     ]
    }
   ],
   "source": [
    "theorypreds_all = API.group_result_table_no_table(**settings_dict)\n",
    "kinematics_all = API.group_kin_table_no_table(**settings_dict)\n",
    "\n",
    "theorypreds_all_ref = API.group_result_table_no_table(**settings_dict_ref)\n",
    "\n",
    "# Sanity check\n",
    "try:\n",
    "  pd.testing.assert_index_equal(kinematics_all.index, theorypreds_all.index)\n",
    "except AssertionError as e:\n",
    "  print(\"Different index\")\n",
    "  print(e)"
   ]
  },
  {
   "cell_type": "code",
   "execution_count": 5,
   "id": "0333238b",
   "metadata": {},
   "outputs": [],
   "source": [
    "theorypred_reps = theorypreds_all.iloc[:, 2:]\n",
    "theorypdres_mean = theorypred_reps.mean(axis=1)\n",
    "theorypred_rep0 = theorypreds_all.iloc[:, 1]\n",
    "\n",
    "theorypred_reps_ref = theorypreds_all_ref.iloc[:, 2:]\n",
    "theorypdres_mean_ref = theorypred_reps_ref.mean(axis=1)\n",
    "theorypred_rep0_ref = theorypreds_all_ref.iloc[:, 1]"
   ]
  },
  {
   "cell_type": "code",
   "execution_count": 6,
   "id": "2a023f0b",
   "metadata": {},
   "outputs": [],
   "source": [
    "pseudodata = API.read_pdf_pseudodata(**settings_dict)\n",
    "data_reps = pd.concat(\n",
    "    [i.pseudodata.reindex(theorypreds_all.index) for i in pseudodata], axis=1\n",
    ")\n",
    "data_reps_mean = data_reps.mean(axis=1)\n",
    "data_exp = theorypreds_all[\"data_central\"]\n",
    "\n",
    "\n",
    "data_exp_ref = theorypreds_all_ref[\"data_central\"]"
   ]
  },
  {
   "cell_type": "code",
   "execution_count": 7,
   "id": "ac6553b1",
   "metadata": {},
   "outputs": [
    {
     "name": "stdout",
     "output_type": "stream",
     "text": [
      "LHAPDF 6.5.4 loading /opt/homebrew/Caskroom/miniconda/base/envs/nnpdf/share/LHAPDF/210715-n3fit-1000-001/210715-n3fit-1000-001_0000.dat\n",
      "210715-n3fit-1000-001 PDF set, member #0, version 1\n"
     ]
    }
   ],
   "source": [
    "Ct0 = API.groups_covmat(\n",
    "    use_t0=True,\n",
    "    **settings_dict\n",
    ")\n",
    "Cexp = API.groups_covmat(\n",
    "    use_t0=False,\n",
    "    **settings_dict\n",
    ")\n",
    "\n",
    "Ct0_ref = API.groups_covmat(\n",
    "    use_t0=True,\n",
    "    **settings_dict_ref\n",
    ")\n",
    "Cexp_ref = API.groups_covmat(\n",
    "    use_t0=False,\n",
    "    **settings_dict_ref\n",
    ")"
   ]
  },
  {
   "cell_type": "code",
   "execution_count": 8,
   "id": "d3425603",
   "metadata": {},
   "outputs": [],
   "source": [
    "Cinvt0 = np.linalg.inv(Ct0)\n",
    "Cinvexp = np.linalg.inv(Cexp)\n",
    "\n",
    "Cinvt0_ref = np.linalg.inv(Ct0_ref)\n",
    "Cinvexp_ref = np.linalg.inv(Cexp_ref)"
   ]
  },
  {
   "cell_type": "code",
   "execution_count": 9,
   "id": "6d11ff6f",
   "metadata": {},
   "outputs": [],
   "source": [
    "ht_theory = pd.Series(data=np.zeros_like(theorypred_rep0.to_numpy()), index=theorypred_rep0.index )\n",
    "ht_theory = pd.DataFrame(ht_theory, columns=['ht'])"
   ]
  },
  {
   "cell_type": "code",
   "execution_count": 10,
   "id": "db8d43f9",
   "metadata": {},
   "outputs": [],
   "source": [
    "# Concatenate kinematics to HT dataframe\n",
    "try:\n",
    "  pd.testing.assert_index_equal(kinematics_all.index, ht_theory.index)\n",
    "  ht_theory = pd.concat([ht_theory, kinematics_all],axis=1)\n",
    "except AssertionError as e:\n",
    "  print(\"Different index\")\n",
    "  print(e)"
   ]
  },
  {
   "cell_type": "code",
   "execution_count": 11,
   "id": "37fd0d61",
   "metadata": {},
   "outputs": [],
   "source": [
    "# Define ABMP HT\n",
    "x_knots = [0.0, 0.1, 0.3, 0.5, 0.7, 0.9, 1]\n",
    "y_h2 = [0.023, -0.032, -0.005, 0.025, 0.051, 0.003, 0.0]\n",
    "y_ht = [-0.319, -0.134, -0.052, 0.071, 0.030, 0.003, 0.0]\n",
    "\n",
    "H_2 = scint.CubicSpline(x_knots, y_h2)\n",
    "H_T = scint.CubicSpline(x_knots, y_ht)\n",
    "\n",
    "# Reconstruct HL from HT and H2\n",
    "def H_L(x):\n",
    "    return (H_2(x) - np.power(x, 0.05) * H_T(x))\n",
    "\n",
    "H_2 = np.vectorize(H_2)\n",
    "H_L = np.vectorize(H_L)"
   ]
  },
  {
   "cell_type": "markdown",
   "id": "df40f92e",
   "metadata": {},
   "source": [
    "## Compute the HT"
   ]
  },
  {
   "cell_type": "code",
   "execution_count": 12,
   "id": "8d8110f6",
   "metadata": {},
   "outputs": [],
   "source": [
    "# Deactivate performance warning when using df.loc\n",
    "import warnings\n",
    "warnings.simplefilter(action='ignore', category=pd.errors.PerformanceWarning)\n",
    "\n",
    "included_proc = ['DIS NC']\n",
    "excluded_exp = {\"DIS NC\" : []}\n",
    "for process_name, process_group in ht_theory.groupby(level='group'):\n",
    "  for exp_name, exp_group in process_group.groupby(level='dataset'):\n",
    "    if process_name in included_proc and exp_name not in excluded_exp[process_name]:\n",
    "      x = exp_group.kin_1.to_numpy()\n",
    "      q2 = exp_group.kin_2.to_numpy()\n",
    "      y = exp_group.kin_3.to_numpy()\n",
    "      N2, NL = compute_normalisation_by_experiment(exp_name, x, y, q2)\n",
    "      PC_2 = N2 * H_2(x) / q2\n",
    "      PC_L = NL * H_L(x) / q2\n",
    "      ht_theory.loc[(process_name, exp_name), 'ht'] = PC_2 + PC_L"
   ]
  },
  {
   "cell_type": "markdown",
   "id": "46255893",
   "metadata": {},
   "source": [
    "## Collect process and experiment information"
   ]
  },
  {
   "cell_type": "code",
   "execution_count": 13,
   "id": "b1556d5c",
   "metadata": {},
   "outputs": [],
   "source": [
    "# Collecting name of nnpdf31_processes and experiments\n",
    "process_list = []\n",
    "exp_list = []\n",
    "process_name = ''\n",
    "exp_name = ''\n",
    "for proc in theorypred_rep0.index.to_numpy():\n",
    "  if proc[0] != process_name:\n",
    "    process_name = proc[0]\n",
    "    process_list.append(process_name)\n",
    "\n",
    "  if proc[1] != exp_name:\n",
    "    exp_name = proc[1]\n",
    "    exp_list.append(exp_name)"
   ]
  },
  {
   "cell_type": "markdown",
   "id": "a3cbc380",
   "metadata": {},
   "source": [
    "# Compute global $\\chi^2$"
   ]
  },
  {
   "cell_type": "code",
   "execution_count": 14,
   "id": "794cafc4",
   "metadata": {},
   "outputs": [
    {
     "name": "stdout",
     "output_type": "stream",
     "text": [
      "           name      Baseline no HT   With HT\n",
      "         chi2t0         1.2860         1.2696\n",
      " chi2t0_average         1.3090         1.2924\n",
      "   chi2t0_meanT         1.2859         1.2694\n",
      "        chi2exp         1.2182         1.2007\n"
     ]
    }
   ],
   "source": [
    "# With HT\n",
    "ndat = theorypred_rep0.size\n",
    "chi2t0 = (theorypred_rep0 +  ht_theory['ht']- data_exp) @ Cinvt0 @ (theorypred_rep0 +  ht_theory['ht'] - data_exp) / ndat\n",
    "chi2t0_average = np.mean([(theorypred_reps[r] +  ht_theory['ht'] - data_exp.to_numpy()) @ Cinvt0 @ (theorypred_reps[r] +  ht_theory['ht'] - data_exp.to_numpy()) for r in theorypred_reps]) / ndat\n",
    "chi2t0_meanT = (theorypred_reps.mean(axis=1) +  ht_theory['ht'] - data_exp) @ Cinvt0 @ (theorypred_reps.mean(axis=1) +  ht_theory['ht'] - data_exp) / ndat\n",
    "chi2exp = (theorypred_rep0 +  ht_theory['ht'] - data_exp) @ Cinvexp @ (theorypred_rep0 +  ht_theory['ht'] - data_exp) / ndat\n",
    "\n",
    "# Without HT\n",
    "chi2t0_no_ht = (theorypred_rep0 - data_exp) @ Cinvt0 @ (theorypred_rep0 - data_exp) / ndat\n",
    "chi2t0_average_no_ht = np.mean([(theorypred_reps[r]  - data_exp.to_numpy()) @ \\\n",
    "                                Cinvt0 @ \\\n",
    "                                (theorypred_reps[r]  - data_exp.to_numpy()) for r in theorypred_reps]) / ndat\n",
    "chi2t0_meanT_no_ht = (theorypred_reps.mean(axis=1)  - data_exp) @ Cinvt0 @ (theorypred_reps.mean(axis=1) - data_exp) / ndat\n",
    "chi2exp_no_ht = (theorypred_rep0  - data_exp) @ Cinvexp @ (theorypred_rep0  - data_exp) / ndat\n",
    "\n",
    "# Reference fit\n",
    "ndat_ref = theorypred_rep0_ref.size\n",
    "chi2t0_ref = (theorypred_rep0_ref - data_exp_ref) @ Cinvt0_ref @ (theorypred_rep0_ref  - data_exp_ref) / ndat_ref\n",
    "chi2t0_average_ref = np.mean([(theorypred_reps_ref[r] - data_exp_ref.to_numpy()) @ Cinvt0_ref @ (theorypred_reps_ref[r] - data_exp_ref.to_numpy()) for r in theorypred_reps_ref]) / ndat_ref\n",
    "chi2t0_meanT_ref = (theorypred_reps_ref.mean(axis=1) - data_exp_ref) @ Cinvt0_ref @ (theorypred_reps_ref.mean(axis=1) - data_exp_ref) / ndat_ref\n",
    "chi2exp_ref = (theorypred_rep0_ref - data_exp_ref) @ Cinvexp_ref @ (theorypred_rep0_ref - data_exp_ref) / ndat_ref\n",
    "\n",
    "\n",
    "if False:\n",
    "  print(f\"{\"name\":>15}{\"chi2 w/o HT\":>20}{\"chi2 w/ HT\":>15}\")\n",
    "  print(f\"{\"chi2t0\":>15}{chi2t0:>15.4f}{chi2t0_no_ht:>15.4f}\")\n",
    "  print(f\"{\"chi2t0_average\":>15}{chi2t0_average:>15.4f}{chi2t0_average_no_ht:>15.4f}\")\n",
    "  print(f\"{\"chi2t0_meanT\":>15}{chi2t0_meanT:>15.4f}{chi2t0_meanT_no_ht:>15.4f}\")\n",
    "  print(f\"{\"chi2exp\":>15}{chi2exp:>15.4f}{chi2exp_no_ht:>15.4f}\")\n",
    "\n",
    "if True:\n",
    "    print(f\"{\"name\":>15}{\"Baseline no HT\":>20}{\"With HT\":>10}\")\n",
    "    print(f\"{\"chi2t0\":>15}{chi2t0_ref:>15.4f}{chi2t0:>15.4f}\")\n",
    "    print(f\"{\"chi2t0_average\":>15}{chi2t0_average_ref:>15.4f}{chi2t0_average:>15.4f}\")\n",
    "    print(f\"{\"chi2t0_meanT\":>15}{chi2t0_meanT_ref:>15.4f}{chi2t0_meanT:>15.4f}\")\n",
    "    print(f\"{\"chi2exp\":>15}{chi2exp_ref:>15.4f}{chi2exp:>15.4f}\")"
   ]
  },
  {
   "cell_type": "markdown",
   "id": "fa137293",
   "metadata": {},
   "source": [
    "## Compute $\\chi^2$ per process"
   ]
  },
  {
   "cell_type": "code",
   "execution_count": 15,
   "id": "99f7df21",
   "metadata": {},
   "outputs": [
    {
     "name": "stdout",
     "output_type": "stream",
     "text": [
      "           name      Baseline no HT   With HT\n",
      "        DIS NC         1.2450         1.2474\n",
      "        DIS CC         1.0122         1.0146\n",
      "         DY NC         1.2882         1.2313\n",
      "         DY CC         1.6504         1.8411\n",
      "           TOP         1.5540         1.3374\n",
      "          JETS         1.1094         1.0018\n",
      "         DIJET         2.2559         2.1151\n",
      "        PHOTON         0.8130         0.7513\n",
      "     SINGLETOP         0.3491         0.3727\n"
     ]
    }
   ],
   "source": [
    "chi2_dict = {}\n",
    "collector = 0\n",
    "for name in process_list:\n",
    "  theorypred_rep0_PROC = theorypred_rep0.loc[[name]].to_numpy()\n",
    "  data_exp_PROC = data_exp.loc[[name]].to_numpy()\n",
    "\n",
    "  # For reference fit\n",
    "  theorypred_rep0_PROC_ref = theorypred_rep0_ref.loc[[name]].to_numpy()\n",
    "  data_exp_PROC_ref = data_exp_ref.loc[[name]].to_numpy()\n",
    "\n",
    "  ht_PROC = ht_theory.loc[[name], 'ht'].to_numpy()\n",
    "\n",
    "  try:\n",
    "    assert(theorypred_rep0_PROC.shape == data_exp_PROC.shape == ht_PROC.shape)\n",
    "  except AssertionError as e:\n",
    "    print(\"Problem with the shape\")\n",
    "    print(e)\n",
    "\n",
    "  # For reference fit\n",
    "  try:\n",
    "    assert(theorypred_rep0_PROC_ref.shape == data_exp_PROC_ref.shape)\n",
    "  except AssertionError as e:\n",
    "    print(\"Problem with the shape\")\n",
    "    print(e)\n",
    "    \n",
    "  Ndata_PROC = theorypred_rep0_PROC.shape[0]\n",
    "  Cinvexp_PROC = Cinvexp[collector:collector+Ndata_PROC, collector:collector+Ndata_PROC]\n",
    "\n",
    "  # For reference fit\n",
    "  Ndata_PROC_ref = theorypred_rep0_PROC_ref.shape[0]\n",
    "  try:\n",
    "    assert(Ndata_PROC_ref == Ndata_PROC)\n",
    "  except AssertionError as e:\n",
    "    print(\"Fit and reference fit do not have the same number of points\")\n",
    "    print(e)\n",
    "    exit\n",
    "  Cinvexp_PROC_ref = Cinvexp_ref[collector:collector + Ndata_PROC_ref, collector:collector + Ndata_PROC_ref]\n",
    "\n",
    "  collector += Ndata_PROC\n",
    "\n",
    "  chi2exp_PROC = (theorypred_rep0_PROC +  ht_PROC - data_exp_PROC) @ Cinvexp_PROC @ (theorypred_rep0_PROC +  ht_PROC - data_exp_PROC) / Ndata_PROC\n",
    "  chi2exp_no_ht_PROC = (theorypred_rep0_PROC - data_exp_PROC) @ Cinvexp_PROC @ (theorypred_rep0_PROC - data_exp_PROC) / Ndata_PROC\n",
    "\n",
    "  # For reference fit\n",
    "  chi2exp_PROC_ref = (theorypred_rep0_PROC_ref - data_exp_PROC_ref) @ Cinvexp_PROC_ref @ (theorypred_rep0_PROC_ref - data_exp_PROC_ref) / Ndata_PROC_ref\n",
    "\n",
    "  chi2_dict[name] = {\"HT\": chi2exp_PROC, \"NO_HT\": chi2exp_no_ht_PROC, \"ref\": chi2exp_PROC_ref}\n",
    "\n",
    "if False:\n",
    "  print(f\"{\"name\":>10}{\"chi2 w/o HT\":>20}{\"chi2 w/ HT\":>15}\")\n",
    "  for name in chi2_dict.keys():\n",
    "    print(f\"{name:>10}{chi2_dict[name][\"NO_HT\"]:>15.4f}{chi2_dict[name][\"HT\"]:>15.4f}\")\n",
    "\n",
    "if True:\n",
    "  print(f\"{\"name\":>15}{\"Baseline no HT\":>20}{\"With HT\":>10}\")\n",
    "  for name in chi2_dict.keys():\n",
    "    print(f\"{name:>14}{chi2_dict[name][\"ref\"]:>15.4f}{chi2_dict[name][\"HT\"]:>15.4f}\")\n"
   ]
  },
  {
   "cell_type": "markdown",
   "id": "ea44ba47",
   "metadata": {},
   "source": [
    "## Compute $\\chi^2$ per experiment"
   ]
  },
  {
   "cell_type": "code",
   "execution_count": 16,
   "id": "49d42e35",
   "metadata": {},
   "outputs": [
    {
     "name": "stdout",
     "output_type": "stream",
     "text": [
      "                                    name      Baseline no HT   With HT\n",
      "                NMC_NC_NOTFIXED_DW_EM-F2         0.8809         0.9447\n",
      "           NMC_NC_NOTFIXED_P_EM-SIGMARED         1.5983         1.4989\n",
      "             SLAC_NC_NOTFIXED_P_DW_EM-F2         1.1067         0.7105\n",
      "             SLAC_NC_NOTFIXED_D_DW_EM-F2         0.7556         0.7225\n",
      "            BCDMS_NC_NOTFIXED_P_DW_EM-F2         1.6784         1.6928\n",
      "            BCDMS_NC_NOTFIXED_D_DW_EM-F2         1.4883         1.6271\n",
      "              HERA_NC_318GEV_EM-SIGMARED         1.5036         1.4338\n",
      "              HERA_NC_225GEV_EP-SIGMARED         1.3805         1.2975\n",
      "              HERA_NC_251GEV_EP-SIGMARED         1.1664         1.0964\n",
      "              HERA_NC_300GEV_EP-SIGMARED         1.5225         1.4120\n",
      "              HERA_NC_318GEV_EP-SIGMARED         1.4357         1.3632\n",
      "      HERA_NC_318GEV_EAVG_CHARM-SIGMARED         2.0776         2.1650\n",
      "     HERA_NC_318GEV_EAVG_BOTTOM-SIGMARED         1.4436         3.5583\n"
     ]
    }
   ],
   "source": [
    "chi2_dict_exp = {}\n",
    "collector = 0\n",
    "for name in exp_list:\n",
    "  theorypred_rep0_exp = theorypred_rep0.xs(name, level=\"dataset\").to_numpy()\n",
    "  data_exp_exp = data_exp.xs(name, level=\"dataset\").to_numpy()\n",
    "  ht_exp = ht_theory.xs(name, level='dataset')['ht'].to_numpy()\n",
    "  try:\n",
    "    assert(theorypred_rep0_exp.shape == ht_exp.shape == data_exp_exp.shape)\n",
    "  except AssertionError as e:\n",
    "    print(\"Problem with the shape\")\n",
    "    print(e)\n",
    "\n",
    "  # For reference fit\n",
    "  theorypred_rep0_exp_ref = theorypred_rep0_ref.xs(name, level=\"dataset\").to_numpy()\n",
    "  data_exp_exp_ref = data_exp_ref.xs(name, level=\"dataset\").to_numpy()\n",
    "    \n",
    "  ndata_exp = theorypred_rep0_exp.shape[0]\n",
    "  Cinvexp_exp = Cinvexp[collector:collector + ndata_exp, collector:collector + ndata_exp]\n",
    "\n",
    "  # For reference fit\n",
    "  ndata_exp_ref = theorypred_rep0_exp_ref.shape[0]\n",
    "  Cinvexp_exp_ref = Cinvexp_ref[collector:collector + ndata_exp_ref, collector:collector + ndata_exp_ref]\n",
    "\n",
    "  collector += ndata_exp\n",
    "\n",
    "  chi2exp_exp = (theorypred_rep0_exp +  ht_exp - data_exp_exp) @ Cinvexp_exp @ (theorypred_rep0_exp +  ht_exp - data_exp_exp) / ndata_exp\n",
    "  chi2exp_no_ht_exp = (theorypred_rep0_exp - data_exp_exp) @ Cinvexp_exp @ (theorypred_rep0_exp - data_exp_exp) / ndata_exp\n",
    "\n",
    "  chi2exp_no_ht_exp_ref = (theorypred_rep0_exp_ref - data_exp_exp_ref) @ Cinvexp_exp_ref @ (theorypred_rep0_exp_ref - data_exp_exp_ref) / ndata_exp_ref\n",
    "\n",
    "  chi2_dict_exp[name] = {\"HT\": chi2exp_exp, \n",
    "                         \"NO_HT\": chi2exp_no_ht_exp, \n",
    "                         \"ref\": chi2exp_no_ht_exp_ref,\n",
    "                         \"show\": True if ht_theory.xs(name, level='dataset')['ht'].index[0][0] == 'DIS NC' else False}\n",
    "\n",
    "if False:\n",
    "  print(f\"{\"name\":>30}{\"chi2 w/o HT\":>30}{\"chi2 w/ HT\":>15}\")\n",
    "  for name in chi2_dict_exp.keys():\n",
    "    if chi2_dict_exp[name]['show']:\n",
    "      print(f\"{name:>40}{chi2_dict_exp[name][\"NO_HT\"]:>15.4f}{chi2_dict_exp[name][\"HT\"]:>15.4f}\")\n",
    "\n",
    "if True:\n",
    "  print(f\"{\"name\":>40}{\"Baseline no HT\":>20}{\"With HT\":>10}\")\n",
    "  for name in chi2_dict_exp.keys():\n",
    "    if chi2_dict_exp[name]['show']:\n",
    "      print(f\"{name:>40}{chi2_dict_exp[name][\"ref\"]:>15.4f}{chi2_dict_exp[name][\"HT\"]:>15.4f}\")"
   ]
  },
  {
   "cell_type": "markdown",
   "id": "0cc8ed95",
   "metadata": {},
   "source": [
    "# Compute pseudodata"
   ]
  },
  {
   "cell_type": "code",
   "execution_count": 17,
   "id": "5b7df35b",
   "metadata": {},
   "outputs": [],
   "source": [
    "chi2t0_pseudodata = (theorypred_rep0 - data_reps_mean) @ Cinvt0 @ (theorypred_rep0 - data_reps_mean) / ndat\n",
    "chi2t0_average_pseudodata = np.mean([(theorypred_reps[r] - data_reps_mean.to_numpy()) @ Cinvt0 @ (theorypred_reps[r] - data_reps_mean.to_numpy()) for r in theorypred_reps]) / ndat\n",
    "chi2t0_meanT_pseudodata = (theorypred_reps.mean(axis=1) - data_reps_mean) @ Cinvt0 @ (theorypred_reps.mean(axis=1) - data_reps_mean) / ndat\n",
    "chi2exp_pseudodata = (theorypred_rep0 - data_reps_mean) @ Cinvexp @ (theorypred_rep0 - data_reps_mean) / ndat"
   ]
  }
 ],
 "metadata": {
  "kernelspec": {
   "display_name": "nnpdf",
   "language": "python",
   "name": "python3"
  },
  "language_info": {
   "codemirror_mode": {
    "name": "ipython",
    "version": 3
   },
   "file_extension": ".py",
   "mimetype": "text/x-python",
   "name": "python",
   "nbconvert_exporter": "python",
   "pygments_lexer": "ipython3",
   "version": "3.10.15"
  }
 },
 "nbformat": 4,
 "nbformat_minor": 5
}
